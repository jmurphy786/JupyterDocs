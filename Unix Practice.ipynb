{
 "cells": [
  {
   "cell_type": "markdown",
   "metadata": {},
   "source": [
    "# Unix Practice\n",
    "\n",
    "\n",
    "Why Unix?\n",
    "Most operating systems are based on using UNIX\n",
    "\n",
    "UNIX provides :\n",
    "\n",
    "    File Manipulation\n",
    "    Data Manipulation\n",
    "\n",
    "There are 3 main componenets to UNIX\n",
    "    Shell\n",
    "    Kernel\n",
    "    Hardware\n",
    "\n",
    "<font color='red'>**Shell** </font> acts as a command line interpreter for UNIX is the interface between the user and the Kernel which acts as a command line interpreter for UNIX. It allows UNIXcommands and other user-developed programs to be executed by the Kernel.\n",
    "\n",
    "In UNIX everything is a file or a process!\n",
    "\n",
    "A process is an executing program identified by a unique process identifier typically refered to as <font color='red'>**PID** </font>.\n",
    "\n",
    "In Unix ./ referes to the **working directory** ../ refers to the level above.\n",
    "\n",
    "~/foo.txt refers to the Home Directory.\n",
    "\n",
    "<font color='red'>**cat** </font> is a UNIX command that shows the contents of a .txt file.\n",
    "\n",
    "<font color='red'>**man** </font> is a UNIX command that stands for manual pages to look up documentation for any of these commands\n",
    "\n",
    "<font color='red'>**ls-l** </font> Shows files in a more verbose format\n",
    "\n",
    "<font color='red'>**ls -a** </font> Shows hidden files in a directory.\n",
    "\n",
    "**sort fruits.txt > fruits-sorted.txt** // Sorts the fruits file and sends that to a new file called fruits-sorted\n",
    "\n",
    "**cat < fruits-sorted.txt** \n",
    "\n",
    "uniq fruits-sorted.txt // Get all unique lines from fruits-sorted\n",
    "\n",
    "who > names.txt // Checks who all has been logged into the system and adds it to a new files called names\n",
    "\n",
    "**To concatenate 2 or more commands together use a semi-colon e.g.** pwd; ls -l > out.txt however all that goes into out is the contents of ls -l to put the contents of both comamnds into the out file wrap the commands in a parenthesis such as:\n",
    "\n",
    "(pwd; ls -l) > out.txt\n",
    "\n",
    "<font color='red'>**Unix Pipes** </font> - Is a way to send the output of one command to the input of another.\n",
    "\n",
    "<font color='red'>**Filter Commands** </font> - Takes inputs and transforms it in some way, examples of filters are:\n",
    "    grep - *look for lines with a given string or pattern*\n",
    "    more - *fits as much of the file into the shell window*\n",
    "    less - \n",
    "    sort - *Sorts lines alphabetically or numerically*\n",
    "    uniq - *Unique will give you the unique lines*\n",
    "    \n",
    "**Examples of Pipes**\n",
    "\n",
    "**ls -la | more**    // Sometimes there are too many files to show on the shell window but if you pipe that input into                      // more it will fit all of the files into the window\n",
    "\n",
    "** man cat | grep file  // Will look for the word file in each manual page of cat."
   ]
  },
  {
   "cell_type": "code",
   "execution_count": null,
   "metadata": {},
   "outputs": [],
   "source": []
  }
 ],
 "metadata": {
  "kernelspec": {
   "display_name": "Python 3",
   "language": "python",
   "name": "python3"
  },
  "language_info": {
   "codemirror_mode": {
    "name": "ipython",
    "version": 3
   },
   "file_extension": ".py",
   "mimetype": "text/x-python",
   "name": "python",
   "nbconvert_exporter": "python",
   "pygments_lexer": "ipython3",
   "version": "3.7.1"
  }
 },
 "nbformat": 4,
 "nbformat_minor": 2
}
